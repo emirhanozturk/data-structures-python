{
  "metadata": {
    "language_info": {
      "codemirror_mode": {
        "name": "python",
        "version": 3
      },
      "file_extension": ".py",
      "mimetype": "text/x-python",
      "name": "python",
      "nbconvert_exporter": "python",
      "pygments_lexer": "ipython3",
      "version": "3.8"
    },
    "kernelspec": {
      "name": "python",
      "display_name": "Python (Pyodide)",
      "language": "python"
    }
  },
  "nbformat_minor": 4,
  "nbformat": 4,
  "cells": [
    {
      "cell_type": "code",
      "source": "class Graph:\n    \n    def __init__(self):\n        self.adjGraph = {}\n    \n    def addVertex(self,vertex):\n        if(vertex not in self.adjGraph.keys()):\n            self.adjGraph[vertex] = []\n            return True\n        return False\n    \n    def addEdge(self,v1,v2):\n        if v1 in self.adjGraph.keys() and v2 in self.adjGraph.keys():\n            self.adjGraph[v1].append(v2)\n            self.adjGraph[v2].append(v1)\n            return True\n        return False\n    def removeEdge(self,v1,v2):\n        if v1 in self.adjGraph.keys() and v2 in self.adjGraph.keys():\n            try:\n                self.adjGraph[v1].remove(v2)\n                self.adjGraph[v2].remove(v1)\n            except:\n                pass\n            return True\n        return False\n    \n    def removeVertex(self,v):\n        if v in self.adjGraph.keys():\n            for connectedVertex in self.adjGraph[v]:\n                self.adjGraph[connectedVertex].remove(v)\n            del self.adjGraph[v]\n            return True\n        return False\n    \n    def printGraph(self):\n        for v in self.adjGraph:\n            print(v, \"-->\",self.adjGraph[v])",
      "metadata": {
        "trusted": true
      },
      "execution_count": 13,
      "outputs": []
    },
    {
      "cell_type": "code",
      "source": "graph = Graph()\ngraph.addVertex('IST')\ngraph.addVertex('AMS')\ngraph.addVertex('CDG')\ngraph.addVertex('JFK')\n\ngraph.addEdge('IST','AMS')\ngraph.addEdge('IST','CDG')\ngraph.addEdge('IST','JFK')\ngraph.addEdge('AMS','CDG')\ngraph.addEdge('AMS','JFK')\ngraph.addEdge('CDG','JFK')\n\ngraph.printGraph()",
      "metadata": {
        "trusted": true
      },
      "execution_count": 17,
      "outputs": [
        {
          "name": "stdout",
          "text": "IST --> ['AMS', 'CDG', 'JFK']\nAMS --> ['IST', 'CDG', 'JFK']\nCDG --> ['IST', 'AMS', 'JFK']\nJFK --> ['IST', 'AMS', 'CDG']\n",
          "output_type": "stream"
        }
      ]
    },
    {
      "cell_type": "code",
      "source": "#graph.removeVertex(\"JFK\")\ngraph.removeEdge(\"IST\",\"CDG\")\ngraph.printGraph()",
      "metadata": {
        "trusted": true
      },
      "execution_count": 19,
      "outputs": [
        {
          "name": "stdout",
          "text": "IST --> ['AMS', 'JFK']\nAMS --> ['IST', 'CDG', 'JFK']\nCDG --> ['AMS', 'JFK']\nJFK --> ['IST', 'AMS', 'CDG']\n",
          "output_type": "stream"
        }
      ]
    },
    {
      "cell_type": "code",
      "source": "",
      "metadata": {},
      "execution_count": null,
      "outputs": []
    }
  ]
}