{
  "metadata": {
    "language_info": {
      "codemirror_mode": {
        "name": "python",
        "version": 3
      },
      "file_extension": ".py",
      "mimetype": "text/x-python",
      "name": "python",
      "nbconvert_exporter": "python",
      "pygments_lexer": "ipython3",
      "version": "3.8"
    },
    "kernelspec": {
      "name": "python",
      "display_name": "Python (Pyodide)",
      "language": "python"
    }
  },
  "nbformat_minor": 4,
  "nbformat": 4,
  "cells": [
    {
      "cell_type": "code",
      "source": "class Node:\n    \n    def __init__(self,value):\n        self.value = value\n        self.left = None\n        self.right = None",
      "metadata": {
        "trusted": true
      },
      "execution_count": 5,
      "outputs": []
    },
    {
      "cell_type": "code",
      "source": "class BinarySearchTree:\n    \n    def __init__(self):\n        self.root = None\n        \n    def insert(self,value):\n        newNode = Node(value)\n        \n        if self.root is None:\n            self.root = newNode\n            return True\n        tempNode = self.root\n        while True:\n            \n            if newNode.value == tempNode.value:\n                return False\n            if newNode.value < tempNode.value:\n                if tempNode.left is None:\n                    tempNode.left = newNode\n                    return True\n                tempNode = tempNode.left\n            else:\n                if tempNode.right is None:\n                    tempNode.right = newNode\n                    return True\n                tempNode = tempNode.right\n    def contains(self,value):\n        \n        tempNode = self.root\n        \n        while tempNode:\n            if value < tempNode.value:\n                tempNode = tempNode.left\n            elif value > tempNode.value:\n                tempNode = tempNode.right\n            else:\n                return True\n        return False\n    def minOfNode(self,currentNode):\n        while currentNode.left:\n            currentNode = currentNode.left\n        return currentNode\n    def maxOfNode(self,currentNode):\n        while currentNode.right:\n            currentNode = currentNode.right\n        return currentNode\n    def BFS(self):\n        currentNode = self.root\n        myQueue = []\n        values = []\n        myQueue.append(currentNode)\n        \n        while len(myQueue) > 0:\n            currentNode = myQueue.pop(0)\n            values.append(currentNode.value)\n            if currentNode.left is not None:\n                myQueue.append(currentNode.left)\n            if currentNode.right is not None:\n                myQueue.append(currentNode.right)\n        return values\n    \n    def DFSPreOrder(self):\n        values = []\n        \n        def traverse(currentNode):\n            values.append(currentNode.value)\n            if currentNode.left is not None:\n                traverse(currentNode.left)\n            if currentNode.right is not None:\n                traverse(currentNode.right)\n        traverse(self.root)\n        return values",
      "metadata": {
        "trusted": true
      },
      "execution_count": 9,
      "outputs": []
    },
    {
      "cell_type": "code",
      "source": "myTree = BinarySearchTree()\nmyTree.insert(38)\nmyTree.insert(19)\nmyTree.insert(69)\nmyTree.insert(12)\nmyTree.insert(24)\nmyTree.insert(59)\nmyTree.insert(95)",
      "metadata": {
        "trusted": true
      },
      "execution_count": 11,
      "outputs": [
        {
          "execution_count": 11,
          "output_type": "execute_result",
          "data": {
            "text/plain": "True"
          },
          "metadata": {}
        }
      ]
    },
    {
      "cell_type": "code",
      "source": "myTree.BFS()",
      "metadata": {
        "trusted": true
      },
      "execution_count": 12,
      "outputs": [
        {
          "execution_count": 12,
          "output_type": "execute_result",
          "data": {
            "text/plain": "[38, 19, 69, 12, 24, 59, 95]"
          },
          "metadata": {}
        }
      ]
    },
    {
      "cell_type": "code",
      "source": "myTree.DFSPreOrder()",
      "metadata": {
        "trusted": true
      },
      "execution_count": 13,
      "outputs": [
        {
          "execution_count": 13,
          "output_type": "execute_result",
          "data": {
            "text/plain": "[38, 19, 12, 24, 69, 59, 95]"
          },
          "metadata": {}
        }
      ]
    },
    {
      "cell_type": "code",
      "source": "",
      "metadata": {},
      "execution_count": null,
      "outputs": []
    }
  ]
}